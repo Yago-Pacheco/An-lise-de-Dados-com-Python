{
  "nbformat": 4,
  "nbformat_minor": 0,
  "metadata": {
    "colab": {
      "name": "Análise de Relatório.ipynb",
      "provenance": [],
      "collapsed_sections": [],
      "authorship_tag": "ABX9TyNbPgAdnY+xYKiYkcEPmaWF",
      "include_colab_link": true
    },
    "kernelspec": {
      "name": "python3",
      "display_name": "Python 3"
    }
  },
  "cells": [
    {
      "cell_type": "markdown",
      "metadata": {
        "id": "view-in-github",
        "colab_type": "text"
      },
      "source": [
        "<a href=\"https://colab.research.google.com/github/Yago-Pacheco/Analise-de-Dados-com-Python/blob/master/An%C3%A1lise_de_Relat%C3%B3rio.ipynb\" target=\"_parent\"><img src=\"https://colab.research.google.com/assets/colab-badge.svg\" alt=\"Open In Colab\"/></a>"
      ]
    },
    {
      "cell_type": "markdown",
      "metadata": {
        "id": "jGW8a_znFZ9V",
        "colab_type": "text"
      },
      "source": [
        "# Análisando um relatório"
      ]
    },
    {
      "cell_type": "markdown",
      "metadata": {
        "id": "Bkxovu5HI5wo",
        "colab_type": "text"
      },
      "source": [
        "Para esta análise, recomendo que deixe a planilha dentro do seu google drive. Caso não a tenha colocado, você pode arrastar ela pasta de arquivos dentro do colab. Caso queira utilizar a planilha que estou usando deixei ela disponível no Git. Entretanto as planilhas tem dados criados por mim, fogem um pouco do real, porém não retira seu valor demostrativo e didático, o qual é meu objetivo. Sem mais enrolações vamos lá ! \n",
        "\n",
        "<center><img width='45%' src='https://www.grupoescolar.com/fotos/relatorio-A6.jpg'>\n",
        "\n"
      ]
    },
    {
      "cell_type": "markdown",
      "metadata": {
        "id": "33rmgsjATBXP",
        "colab_type": "text"
      },
      "source": [
        "## Instalado uma biblioteca"
      ]
    },
    {
      "cell_type": "markdown",
      "metadata": {
        "id": "VvFMs9-bTFz9",
        "colab_type": "text"
      },
      "source": [
        "Aqui irei mostar como se faz o download de uma biblioteca.Um dos gráficos que vamos usar é o do estilo **waffle** para isso vamos fazer o uso da biblioteca `pywaffle`."
      ]
    },
    {
      "cell_type": "code",
      "metadata": {
        "id": "aLMRZIuLTZY_",
        "colab_type": "code",
        "colab": {}
      },
      "source": [
        "!pip install pywaffle -q"
      ],
      "execution_count": null,
      "outputs": []
    },
    {
      "cell_type": "markdown",
      "metadata": {
        "id": "3wenFPc4Ffez",
        "colab_type": "text"
      },
      "source": [
        "## Importando arquivos"
      ]
    },
    {
      "cell_type": "markdown",
      "metadata": {
        "id": "mT2sZrzBFpjV",
        "colab_type": "text"
      },
      "source": [
        "Primeiramente vamos começar a fazer a importação do nosso arquivo. Para isso vamos importa algumas bibliotecas."
      ]
    },
    {
      "cell_type": "code",
      "metadata": {
        "id": "3aqpHyQuFTAo",
        "colab_type": "code",
        "colab": {}
      },
      "source": [
        "#importação das bib\n",
        "import pandas as pd\n",
        "from google.colab import drive\n",
        "import matplotlib.pyplot as plt \n",
        "from pywaffle import Waffle"
      ],
      "execution_count": null,
      "outputs": []
    },
    {
      "cell_type": "markdown",
      "metadata": {
        "id": "KpG-59osItWF",
        "colab_type": "text"
      },
      "source": [
        "Iremos usar a função mount() para importa os arquivos do google drivre."
      ]
    },
    {
      "cell_type": "code",
      "metadata": {
        "id": "xJMn1fjdJJhz",
        "colab_type": "code",
        "colab": {
          "base_uri": "https://localhost:8080/",
          "height": 35
        },
        "outputId": "d379af35-a480-4a89-9dca-2c3baf9dbf9b"
      },
      "source": [
        "#importação\n",
        "drive.mount('/content/gdrive')"
      ],
      "execution_count": null,
      "outputs": [
        {
          "output_type": "stream",
          "text": [
            "Mounted at /content/gdrive\n"
          ],
          "name": "stdout"
        }
      ]
    },
    {
      "cell_type": "code",
      "metadata": {
        "id": "J-acEAL6JcgN",
        "colab_type": "code",
        "colab": {}
      },
      "source": [
        ""
      ],
      "execution_count": null,
      "outputs": []
    },
    {
      "cell_type": "markdown",
      "metadata": {
        "id": "llxlhEN-JhRt",
        "colab_type": "text"
      },
      "source": [
        "Com o seu GD conectado copia o caminho da planilha e cole na função `pd.read_excel()`. utilize o comando `None` para que abra todas as abas da planilha, caso essa tenha mais de uma."
      ]
    },
    {
      "cell_type": "code",
      "metadata": {
        "id": "1xNqc-VSJsSS",
        "colab_type": "code",
        "colab": {}
      },
      "source": [
        "dados = pd.read_excel('/content/gdrive/My Drive/media_de_carnes.xlsx', None)"
      ],
      "execution_count": null,
      "outputs": []
    },
    {
      "cell_type": "code",
      "metadata": {
        "id": "ot8_Lb0GKQXw",
        "colab_type": "code",
        "colab": {
          "base_uri": "https://localhost:8080/",
          "height": 439
        },
        "outputId": "fdcee505-3ca6-49ee-b26d-4bf6b3090db2"
      },
      "source": [
        "#abrindo o arquivo\n",
        "dados"
      ],
      "execution_count": null,
      "outputs": [
        {
          "output_type": "execute_result",
          "data": {
            "text/plain": [
              "{'Itens':   Carnes para churrasco Unnamed: 1      Unnamed: 2\n",
              " 0                Bovina      Suína             Ave\n",
              " 1               Alcatra    Barriga             Asa\n",
              " 2         Chã de dentro      Lombo  Filé de frango\n",
              " 3           Chã de fora     Pernil             NaN\n",
              " 4           Contra filé        NaN             NaN\n",
              " 5               Maminha        NaN             NaN\n",
              " 6               Picanha        NaN             NaN\n",
              " 7               Costela        NaN             NaN,\n",
              " 'Vendas':    Data da venda  Carnes  Quantidade(Kg)  Preço médio(Kg)  Total de Vendas\n",
              " 0     2020-01-02  Bovina              20            35.99           719.80\n",
              " 1     2020-01-02  Bovina              30            35.99          1079.70\n",
              " 2     2020-01-03     Ave              15            20.99           314.85\n",
              " 3     2020-01-03  Bovina              40            35.99          1439.60\n",
              " 4     2020-01-04  Bovina              20            35.99           719.80\n",
              " ..           ...     ...             ...              ...              ...\n",
              " 85    2020-01-29  Bovina              10            35.99           359.90\n",
              " 86    2020-01-29   Suína              15            21.99           329.85\n",
              " 87    2020-01-29  Bovina              30            35.99          1079.70\n",
              " 88    2020-01-30  Bovina              20            35.99           719.80\n",
              " 89    2020-01-30  Bovina              36            35.99          1295.64\n",
              " \n",
              " [90 rows x 5 columns]}"
            ]
          },
          "metadata": {
            "tags": []
          },
          "execution_count": 23
        }
      ]
    },
    {
      "cell_type": "markdown",
      "metadata": {
        "id": "DHnNZBh8KjmY",
        "colab_type": "text"
      },
      "source": [
        "Observe que a planilha encima exibe duas abas. Porém este formato é bem complicado de se ler. Para isso vamos usar a função `.keys()` para listar as abas."
      ]
    },
    {
      "cell_type": "code",
      "metadata": {
        "id": "22hdgHX8KX9Y",
        "colab_type": "code",
        "colab": {
          "base_uri": "https://localhost:8080/",
          "height": 35
        },
        "outputId": "cc12e484-17e7-44c2-bf22-6898b8aef167"
      },
      "source": [
        "dados.keys()"
      ],
      "execution_count": null,
      "outputs": [
        {
          "output_type": "execute_result",
          "data": {
            "text/plain": [
              "dict_keys(['Itens', 'Vendas'])"
            ]
          },
          "metadata": {
            "tags": []
          },
          "execution_count": 24
        }
      ]
    },
    {
      "cell_type": "markdown",
      "metadata": {
        "id": "iUYr5sGJKzRE",
        "colab_type": "text"
      },
      "source": [
        "Vamos trabalhar com a aba 'Vendas'. Para isso vamos definir a variavel dados para utilizarmos apenas esta aba."
      ]
    },
    {
      "cell_type": "code",
      "metadata": {
        "id": "95pN-MEMK_3F",
        "colab_type": "code",
        "colab": {
          "base_uri": "https://localhost:8080/",
          "height": 424
        },
        "outputId": "d363dc29-a7bd-4ef3-f0bf-cb52deabcb8d"
      },
      "source": [
        "dados['Vendas']"
      ],
      "execution_count": null,
      "outputs": [
        {
          "output_type": "execute_result",
          "data": {
            "text/html": [
              "<div>\n",
              "<style scoped>\n",
              "    .dataframe tbody tr th:only-of-type {\n",
              "        vertical-align: middle;\n",
              "    }\n",
              "\n",
              "    .dataframe tbody tr th {\n",
              "        vertical-align: top;\n",
              "    }\n",
              "\n",
              "    .dataframe thead th {\n",
              "        text-align: right;\n",
              "    }\n",
              "</style>\n",
              "<table border=\"1\" class=\"dataframe\">\n",
              "  <thead>\n",
              "    <tr style=\"text-align: right;\">\n",
              "      <th></th>\n",
              "      <th>Data da venda</th>\n",
              "      <th>Carnes</th>\n",
              "      <th>Quantidade(Kg)</th>\n",
              "      <th>Preço médio(Kg)</th>\n",
              "      <th>Total de Vendas</th>\n",
              "    </tr>\n",
              "  </thead>\n",
              "  <tbody>\n",
              "    <tr>\n",
              "      <th>0</th>\n",
              "      <td>2020-01-02</td>\n",
              "      <td>Bovina</td>\n",
              "      <td>20</td>\n",
              "      <td>35.99</td>\n",
              "      <td>719.80</td>\n",
              "    </tr>\n",
              "    <tr>\n",
              "      <th>1</th>\n",
              "      <td>2020-01-02</td>\n",
              "      <td>Bovina</td>\n",
              "      <td>30</td>\n",
              "      <td>35.99</td>\n",
              "      <td>1079.70</td>\n",
              "    </tr>\n",
              "    <tr>\n",
              "      <th>2</th>\n",
              "      <td>2020-01-03</td>\n",
              "      <td>Ave</td>\n",
              "      <td>15</td>\n",
              "      <td>20.99</td>\n",
              "      <td>314.85</td>\n",
              "    </tr>\n",
              "    <tr>\n",
              "      <th>3</th>\n",
              "      <td>2020-01-03</td>\n",
              "      <td>Bovina</td>\n",
              "      <td>40</td>\n",
              "      <td>35.99</td>\n",
              "      <td>1439.60</td>\n",
              "    </tr>\n",
              "    <tr>\n",
              "      <th>4</th>\n",
              "      <td>2020-01-04</td>\n",
              "      <td>Bovina</td>\n",
              "      <td>20</td>\n",
              "      <td>35.99</td>\n",
              "      <td>719.80</td>\n",
              "    </tr>\n",
              "    <tr>\n",
              "      <th>...</th>\n",
              "      <td>...</td>\n",
              "      <td>...</td>\n",
              "      <td>...</td>\n",
              "      <td>...</td>\n",
              "      <td>...</td>\n",
              "    </tr>\n",
              "    <tr>\n",
              "      <th>85</th>\n",
              "      <td>2020-01-29</td>\n",
              "      <td>Bovina</td>\n",
              "      <td>10</td>\n",
              "      <td>35.99</td>\n",
              "      <td>359.90</td>\n",
              "    </tr>\n",
              "    <tr>\n",
              "      <th>86</th>\n",
              "      <td>2020-01-29</td>\n",
              "      <td>Suína</td>\n",
              "      <td>15</td>\n",
              "      <td>21.99</td>\n",
              "      <td>329.85</td>\n",
              "    </tr>\n",
              "    <tr>\n",
              "      <th>87</th>\n",
              "      <td>2020-01-29</td>\n",
              "      <td>Bovina</td>\n",
              "      <td>30</td>\n",
              "      <td>35.99</td>\n",
              "      <td>1079.70</td>\n",
              "    </tr>\n",
              "    <tr>\n",
              "      <th>88</th>\n",
              "      <td>2020-01-30</td>\n",
              "      <td>Bovina</td>\n",
              "      <td>20</td>\n",
              "      <td>35.99</td>\n",
              "      <td>719.80</td>\n",
              "    </tr>\n",
              "    <tr>\n",
              "      <th>89</th>\n",
              "      <td>2020-01-30</td>\n",
              "      <td>Bovina</td>\n",
              "      <td>36</td>\n",
              "      <td>35.99</td>\n",
              "      <td>1295.64</td>\n",
              "    </tr>\n",
              "  </tbody>\n",
              "</table>\n",
              "<p>90 rows × 5 columns</p>\n",
              "</div>"
            ],
            "text/plain": [
              "   Data da venda  Carnes  Quantidade(Kg)  Preço médio(Kg)  Total de Vendas\n",
              "0     2020-01-02  Bovina              20            35.99           719.80\n",
              "1     2020-01-02  Bovina              30            35.99          1079.70\n",
              "2     2020-01-03     Ave              15            20.99           314.85\n",
              "3     2020-01-03  Bovina              40            35.99          1439.60\n",
              "4     2020-01-04  Bovina              20            35.99           719.80\n",
              "..           ...     ...             ...              ...              ...\n",
              "85    2020-01-29  Bovina              10            35.99           359.90\n",
              "86    2020-01-29   Suína              15            21.99           329.85\n",
              "87    2020-01-29  Bovina              30            35.99          1079.70\n",
              "88    2020-01-30  Bovina              20            35.99           719.80\n",
              "89    2020-01-30  Bovina              36            35.99          1295.64\n",
              "\n",
              "[90 rows x 5 columns]"
            ]
          },
          "metadata": {
            "tags": []
          },
          "execution_count": 25
        }
      ]
    },
    {
      "cell_type": "markdown",
      "metadata": {
        "id": "OcB57EYuLFfY",
        "colab_type": "text"
      },
      "source": [
        "Caso queira trabalhar com apenas uma coluna especifica, você faz o seguinte comando:"
      ]
    },
    {
      "cell_type": "code",
      "metadata": {
        "id": "2bVIb5nGLZQa",
        "colab_type": "code",
        "colab": {
          "base_uri": "https://localhost:8080/",
          "height": 237
        },
        "outputId": "e494ed2d-a9e8-4277-ec18-e6fd363459c7"
      },
      "source": [
        "dados['Vendas']['Carnes']"
      ],
      "execution_count": null,
      "outputs": [
        {
          "output_type": "execute_result",
          "data": {
            "text/plain": [
              "0     Bovina\n",
              "1     Bovina\n",
              "2        Ave\n",
              "3     Bovina\n",
              "4     Bovina\n",
              "       ...  \n",
              "85    Bovina\n",
              "86     Suína\n",
              "87    Bovina\n",
              "88    Bovina\n",
              "89    Bovina\n",
              "Name: Carnes, Length: 90, dtype: object"
            ]
          },
          "metadata": {
            "tags": []
          },
          "execution_count": 26
        }
      ]
    },
    {
      "cell_type": "markdown",
      "metadata": {
        "id": "xBFAYf3RU_6K",
        "colab_type": "text"
      },
      "source": [
        "## Operações Matemáticas"
      ]
    },
    {
      "cell_type": "markdown",
      "metadata": {
        "id": "8h_B6Pk5L04I",
        "colab_type": "text"
      },
      "source": [
        "Aqui irei fazer algumas operações matemáticas, para facilitar nossa análise."
      ]
    },
    {
      "cell_type": "code",
      "metadata": {
        "id": "kEEbymtpPbXW",
        "colab_type": "code",
        "colab": {}
      },
      "source": [
        "total_venda = dados['Vendas']['Total de Vendas']"
      ],
      "execution_count": null,
      "outputs": []
    },
    {
      "cell_type": "code",
      "metadata": {
        "id": "BdEhRY8bL_PJ",
        "colab_type": "code",
        "colab": {
          "base_uri": "https://localhost:8080/",
          "height": 35
        },
        "outputId": "222523ac-dde1-4d3c-f68c-001e96d4537a"
      },
      "source": [
        "#soma\n",
        "total_venda.sum()"
      ],
      "execution_count": null,
      "outputs": [
        {
          "output_type": "execute_result",
          "data": {
            "text/plain": [
              "76029.49"
            ]
          },
          "metadata": {
            "tags": []
          },
          "execution_count": 30
        }
      ]
    },
    {
      "cell_type": "code",
      "metadata": {
        "id": "uuC4FYK3P068",
        "colab_type": "code",
        "colab": {
          "base_uri": "https://localhost:8080/",
          "height": 35
        },
        "outputId": "14ff81fe-e692-49a5-a4e6-0aba0c52e9fc"
      },
      "source": [
        "#média\n",
        "total_venda.mean()"
      ],
      "execution_count": null,
      "outputs": [
        {
          "output_type": "execute_result",
          "data": {
            "text/plain": [
              "844.7721111111111"
            ]
          },
          "metadata": {
            "tags": []
          },
          "execution_count": 31
        }
      ]
    },
    {
      "cell_type": "markdown",
      "metadata": {
        "id": "X-RkzDBLVEZZ",
        "colab_type": "text"
      },
      "source": [
        "## Gráficos"
      ]
    },
    {
      "cell_type": "markdown",
      "metadata": {
        "id": "WGIVrk2wP7Pv",
        "colab_type": "text"
      },
      "source": [
        "Aqui eu irei fazer um gráfico simples de linha, para mostrar o Total de vendas. Aqui iremos fazer uso do `matplotlib`."
      ]
    },
    {
      "cell_type": "code",
      "metadata": {
        "id": "IV442PH7QC03",
        "colab_type": "code",
        "colab": {}
      },
      "source": [
        " venda = dados['Vendas']"
      ],
      "execution_count": null,
      "outputs": []
    },
    {
      "cell_type": "code",
      "metadata": {
        "id": "JDXVIiVPQLfH",
        "colab_type": "code",
        "colab": {
          "base_uri": "https://localhost:8080/",
          "height": 333
        },
        "outputId": "c278faf2-65c4-4300-a177-d4c839a2a1a8"
      },
      "source": [
        "#plotando o gráfico\n",
        "plt.plot('Data da venda', 'Total de Vendas', data=venda)\n",
        "\n",
        "#titulos\n",
        "plt.title('Vendas ao longo do mês')\n",
        "plt.xlabel('Data')\n",
        "plt.ylabel('Vendas')\n",
        "plt.xticks(rotation=45)\n",
        "\n",
        "#plot\n",
        "plt.show()"
      ],
      "execution_count": null,
      "outputs": [
        {
          "output_type": "display_data",
          "data": {
            "image/png": "[encoded data removed]",
            "text/plain": [
              "<Figure size 432x288 with 1 Axes>"
            ]
          },
          "metadata": {
            "tags": [],
            "needs_background": "light"
          }
        }
      ]
    },
    {
      "cell_type": "markdown",
      "metadata": {
        "id": "cl3OYmtWTwNq",
        "colab_type": "text"
      },
      "source": [
        "Agora vamos fazer um histograma para saber os dias da semana que as vendas foram mas lucrativos."
      ]
    },
    {
      "cell_type": "code",
      "metadata": {
        "id": "m0ZYPCg-Tv8P",
        "colab_type": "code",
        "colab": {
          "base_uri": "https://localhost:8080/",
          "height": 283
        },
        "outputId": "012825ee-3005-4a40-9da9-b4bb973ab318"
      },
      "source": [
        "venda['Data da venda'].apply(lambda x: x.weekday()).hist(bins=7)"
      ],
      "execution_count": null,
      "outputs": [
        {
          "output_type": "execute_result",
          "data": {
            "text/plain": [
              "<matplotlib.axes._subplots.AxesSubplot at 0x7ff8540a5a90>"
            ]
          },
          "metadata": {
            "tags": []
          },
          "execution_count": 45
        },
        {
          "output_type": "display_data",
          "data": {
            "image/png": "[encoded data removed]",
            "text/plain": [
              "<Figure size 432x288 with 1 Axes>"
            ]
          },
          "metadata": {
            "tags": [],
            "needs_background": "light"
          }
        }
      ]
    },
    {
      "cell_type": "markdown",
      "metadata": {
        "id": "LE9SExGmUUD5",
        "colab_type": "text"
      },
      "source": [
        "Aqui percebemos que a galera gosta de fazer um churrasco mesmo é na segunda-feira !! Lembrando que a planilha usada é apenas um modelo demo, então está bem fora da realidade."
      ]
    },
    {
      "cell_type": "markdown",
      "metadata": {
        "id": "P_EM36RUU5SW",
        "colab_type": "text"
      },
      "source": [
        "Agora vamos usar o famoso gráfico de **Waffle** que cai entre nós muito melhor que o de **pizza** e também de mais fácil entendimento."
      ]
    },
    {
      "cell_type": "code",
      "metadata": {
        "id": "cSAXZr3_VTbn",
        "colab_type": "code",
        "colab": {}
      },
      "source": [
        "#variavel para o waffle\n",
        "item = dict(venda['Carnes'].value_counts())"
      ],
      "execution_count": null,
      "outputs": []
    },
    {
      "cell_type": "code",
      "metadata": {
        "id": "rMxAXsv6V-hv",
        "colab_type": "code",
        "colab": {
          "base_uri": "https://localhost:8080/",
          "height": 161
        },
        "outputId": "f14a2c96-baa8-4962-a98a-3ee99a497fbd"
      },
      "source": [
        "#plotando o Waffle\n",
        "fig = plt.figure(\n",
        "    FigureClass=Waffle,\n",
        "    rows=4,\n",
        "    columns=10,\n",
        "    values=item,\n",
        "    legend={'loc': 'upper left', 'bbox_to_anchor': (1,1)}\n",
        ")\n",
        "fig.set_tight_layout(False)\n",
        "plt.show()"
      ],
      "execution_count": null,
      "outputs": [
        {
          "output_type": "display_data",
          "data": {
            "image/png": "[encoded data removed]",
            "text/plain": [
              "<Waffle size 432x288 with 1 Axes>"
            ]
          },
          "metadata": {
            "tags": [],
            "needs_background": "light"
          }
        }
      ]
    },
    {
      "cell_type": "markdown",
      "metadata": {
        "id": "ga4pepH3WoFa",
        "colab_type": "text"
      },
      "source": [
        "Aqui encerramos nossa simples aálise, lembrando que caso for uma planilha rotineira, você só altera a variavel `dados` colocando o caminho da nova planilha e roda tudo de novo. Espero que este simples script tenha sido de ajuda. Bons estudos, python is life."
      ]
    },
    {
      "cell_type": "code",
      "metadata": {
        "id": "nU5duJ0EXIvj",
        "colab_type": "code",
        "colab": {}
      },
      "source": [
        ""
      ],
      "execution_count": null,
      "outputs": []
    }
  ]
}